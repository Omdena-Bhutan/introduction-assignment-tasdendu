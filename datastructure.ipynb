{
  "nbformat": 4,
  "nbformat_minor": 0,
  "metadata": {
    "colab": {
      "provenance": [],
      "authorship_tag": "ABX9TyNz+3U1qgFt9Lhhtj1v9HZ+",
      "include_colab_link": true
    },
    "kernelspec": {
      "name": "python3",
      "display_name": "Python 3"
    },
    "language_info": {
      "name": "python"
    }
  },
  "cells": [
    {
      "cell_type": "markdown",
      "metadata": {
        "id": "view-in-github",
        "colab_type": "text"
      },
      "source": [
        "<a href=\"https://colab.research.google.com/github/Omdena-Bhutan/introduction-assignment-tasdendu/blob/main/datastructure.ipynb\" target=\"_parent\"><img src=\"https://colab.research.google.com/assets/colab-badge.svg\" alt=\"Open In Colab\"/></a>"
      ]
    },
    {
      "cell_type": "code",
      "execution_count": 13,
      "metadata": {
        "id": "4gnf2-gjMXoM"
      },
      "outputs": [],
      "source": []
    },
    {
      "cell_type": "markdown",
      "source": [
        "**4 Important DataTypes**\n",
        "1. List\n",
        "  - Collection of ordered, mutable, heterogenious and can accept duplicate."
      ],
      "metadata": {
        "id": "aiAI0vvENGU3"
      }
    },
    {
      "cell_type": "code",
      "source": [
        "# Definfing a list\n",
        "numbers = [1,2,3,4]"
      ],
      "metadata": {
        "id": "-rME2X-HOI-1"
      },
      "execution_count": 14,
      "outputs": []
    },
    {
      "cell_type": "markdown",
      "source": [],
      "metadata": {
        "id": "xHLIRFw1PBKg"
      }
    },
    {
      "cell_type": "code",
      "source": [
        "print(numbers)"
      ],
      "metadata": {
        "colab": {
          "base_uri": "https://localhost:8080/"
        },
        "id": "XODhap5KOTAw",
        "outputId": "fe2ec247-13e7-419e-d1ea-b32b3a515843"
      },
      "execution_count": 15,
      "outputs": [
        {
          "output_type": "stream",
          "name": "stdout",
          "text": [
            "[1, 2, 3, 4]\n"
          ]
        }
      ]
    },
    {
      "cell_type": "code",
      "source": [
        "type(numbers)"
      ],
      "metadata": {
        "colab": {
          "base_uri": "https://localhost:8080/"
        },
        "id": "7clDizwnOXCc",
        "outputId": "124a9674-69b9-4bc8-c4b0-b0f87d876c90"
      },
      "execution_count": 16,
      "outputs": [
        {
          "output_type": "execute_result",
          "data": {
            "text/plain": [
              "list"
            ]
          },
          "metadata": {},
          "execution_count": 16
        }
      ]
    },
    {
      "cell_type": "code",
      "source": [
        "# Create a list of string - names\n",
        "names = [\"Tashi\", \"Pema\", \"Dorji\", \"Lhamo\"]"
      ],
      "metadata": {
        "id": "R1fX9ZZ-OkLd"
      },
      "execution_count": 17,
      "outputs": []
    },
    {
      "cell_type": "code",
      "source": [
        "names"
      ],
      "metadata": {
        "colab": {
          "base_uri": "https://localhost:8080/"
        },
        "id": "CwFYgoDoOuJ_",
        "outputId": "a4aa4460-d74f-4106-9e36-f228b6b2a6ee"
      },
      "execution_count": 18,
      "outputs": [
        {
          "output_type": "execute_result",
          "data": {
            "text/plain": [
              "['Tashi', 'Pema', 'Dorji', 'Lhamo']"
            ]
          },
          "metadata": {},
          "execution_count": 18
        }
      ]
    },
    {
      "cell_type": "code",
      "source": [
        "# Heterogeneous list\n",
        "mixed = [1, \"Tashi\", True, 20.6]"
      ],
      "metadata": {
        "id": "F9eGisPZOwMB"
      },
      "execution_count": 19,
      "outputs": []
    },
    {
      "cell_type": "code",
      "source": [
        "mixed"
      ],
      "metadata": {
        "colab": {
          "base_uri": "https://localhost:8080/"
        },
        "id": "HmFfoNKBO1xd",
        "outputId": "28598f5f-6428-473e-9795-1c5e45f9c436"
      },
      "execution_count": 20,
      "outputs": [
        {
          "output_type": "execute_result",
          "data": {
            "text/plain": [
              "[1, 'Tashi', True, 20.6]"
            ]
          },
          "metadata": {},
          "execution_count": 20
        }
      ]
    },
    {
      "cell_type": "code",
      "source": [
        "mixed[1]"
      ],
      "metadata": {
        "colab": {
          "base_uri": "https://localhost:8080/",
          "height": 35
        },
        "id": "rmsDUUz0O4lL",
        "outputId": "c5dcebe7-8a7f-435d-9ba2-2cb046d7bde8"
      },
      "execution_count": 21,
      "outputs": [
        {
          "output_type": "execute_result",
          "data": {
            "text/plain": [
              "'Tashi'"
            ],
            "application/vnd.google.colaboratory.intrinsic+json": {
              "type": "string"
            }
          },
          "metadata": {},
          "execution_count": 21
        }
      ]
    },
    {
      "cell_type": "code",
      "source": [
        "# Adding element into the list\n",
        "# Add David to the list\n",
        "names.append('David')\n",
        "names"
      ],
      "metadata": {
        "colab": {
          "base_uri": "https://localhost:8080/"
        },
        "id": "rDMZOKFtQCuh",
        "outputId": "a0a2b896-d3a4-4840-afe6-0f9f5a4a45fd"
      },
      "execution_count": 22,
      "outputs": [
        {
          "output_type": "execute_result",
          "data": {
            "text/plain": [
              "['Tashi', 'Pema', 'Dorji', 'Lhamo', 'David']"
            ]
          },
          "metadata": {},
          "execution_count": 22
        }
      ]
    },
    {
      "cell_type": "code",
      "source": [
        "# Remve an element\n",
        "names.remove('Lhamo')\n",
        "names"
      ],
      "metadata": {
        "colab": {
          "base_uri": "https://localhost:8080/"
        },
        "id": "ShvbvZAMQdEM",
        "outputId": "b421aedc-2dfa-4df0-ef2c-dece702b7301"
      },
      "execution_count": 23,
      "outputs": [
        {
          "output_type": "execute_result",
          "data": {
            "text/plain": [
              "['Tashi', 'Pema', 'Dorji', 'David']"
            ]
          },
          "metadata": {},
          "execution_count": 23
        }
      ]
    },
    {
      "cell_type": "markdown",
      "source": [
        "Create a list of fruits - Apple, Banana, Cherry\n",
        "- Add the element Mango in the list\n",
        "- Remove element banana from the list\n",
        "- Add an element Orange to be the first element in the list such that the resultant list will have - Orange, Apple, Cherry, Mango"
      ],
      "metadata": {
        "id": "iA5qK1J1Q2tH"
      }
    },
    {
      "cell_type": "code",
      "source": [
        "# Create list called fruits\n",
        "fruits = ['Apple', 'Banana', 'Cherry']\n",
        "fruits"
      ],
      "metadata": {
        "colab": {
          "base_uri": "https://localhost:8080/"
        },
        "id": "AjSXmt0IQors",
        "outputId": "96f6d027-a533-4402-9643-e3cef3f51d35"
      },
      "execution_count": 24,
      "outputs": [
        {
          "output_type": "execute_result",
          "data": {
            "text/plain": [
              "['Apple', 'Banana', 'Cherry']"
            ]
          },
          "metadata": {},
          "execution_count": 24
        }
      ]
    },
    {
      "cell_type": "code",
      "source": [
        "# Add Mango into the list\n",
        "fruits.append('Mango')\n",
        "fruits"
      ],
      "metadata": {
        "colab": {
          "base_uri": "https://localhost:8080/"
        },
        "id": "qv1bjefdRYTX",
        "outputId": "9a954793-da99-4b16-b846-ba04d474f063"
      },
      "execution_count": 25,
      "outputs": [
        {
          "output_type": "execute_result",
          "data": {
            "text/plain": [
              "['Apple', 'Banana', 'Cherry', 'Mango']"
            ]
          },
          "metadata": {},
          "execution_count": 25
        }
      ]
    },
    {
      "cell_type": "code",
      "source": [
        "# Remove Banana from the list\n",
        "fruits.remove('Banana')\n",
        "fruits"
      ],
      "metadata": {
        "colab": {
          "base_uri": "https://localhost:8080/"
        },
        "id": "55JqUj-ZRdL8",
        "outputId": "328da78e-2876-42fe-dbda-568600df58b6"
      },
      "execution_count": 26,
      "outputs": [
        {
          "output_type": "execute_result",
          "data": {
            "text/plain": [
              "['Apple', 'Cherry', 'Mango']"
            ]
          },
          "metadata": {},
          "execution_count": 26
        }
      ]
    },
    {
      "cell_type": "code",
      "source": [
        "# Add Orange to the first index.\n",
        "fruits.insert(0, 'Orange')\n",
        "fruits"
      ],
      "metadata": {
        "colab": {
          "base_uri": "https://localhost:8080/"
        },
        "id": "tA-QPQPZRlQB",
        "outputId": "25641a24-e42b-4f44-b5c8-d096ec296e84"
      },
      "execution_count": 27,
      "outputs": [
        {
          "output_type": "execute_result",
          "data": {
            "text/plain": [
              "['Orange', 'Apple', 'Cherry', 'Mango']"
            ]
          },
          "metadata": {},
          "execution_count": 27
        }
      ]
    },
    {
      "cell_type": "code",
      "source": [],
      "metadata": {
        "id": "yL51KJbXRxwz"
      },
      "execution_count": null,
      "outputs": []
    }
  ]
}