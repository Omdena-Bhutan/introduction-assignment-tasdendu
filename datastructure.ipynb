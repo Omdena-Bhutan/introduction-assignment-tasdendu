{
  "nbformat": 4,
  "nbformat_minor": 0,
  "metadata": {
    "colab": {
      "provenance": [],
      "authorship_tag": "ABX9TyMsdRMUuSMW/u5tUaPqByi2",
      "include_colab_link": true
    },
    "kernelspec": {
      "name": "python3",
      "display_name": "Python 3"
    },
    "language_info": {
      "name": "python"
    }
  },
  "cells": [
    {
      "cell_type": "markdown",
      "metadata": {
        "id": "view-in-github",
        "colab_type": "text"
      },
      "source": [
        "<a href=\"https://colab.research.google.com/github/Omdena-Bhutan/introduction-assignment-tasdendu/blob/main/datastructure.ipynb\" target=\"_parent\"><img src=\"https://colab.research.google.com/assets/colab-badge.svg\" alt=\"Open In Colab\"/></a>"
      ]
    },
    {
      "cell_type": "code",
      "execution_count": 27,
      "metadata": {
        "id": "4gnf2-gjMXoM"
      },
      "outputs": [],
      "source": []
    },
    {
      "cell_type": "markdown",
      "source": [
        "**4 Important DataTypes**\n",
        "1. List\n",
        "  - Collection of ordered, mutable, heterogenious and can accept duplicate."
      ],
      "metadata": {
        "id": "aiAI0vvENGU3"
      }
    },
    {
      "cell_type": "code",
      "source": [
        "# Definfing a list\n",
        "numbers = [1,2,3,4]"
      ],
      "metadata": {
        "id": "-rME2X-HOI-1"
      },
      "execution_count": 28,
      "outputs": []
    },
    {
      "cell_type": "markdown",
      "source": [],
      "metadata": {
        "id": "xHLIRFw1PBKg"
      }
    },
    {
      "cell_type": "code",
      "source": [
        "print(numbers)"
      ],
      "metadata": {
        "colab": {
          "base_uri": "https://localhost:8080/"
        },
        "id": "XODhap5KOTAw",
        "outputId": "0f6382f5-078c-4e9d-cc60-7f934ff3efd8"
      },
      "execution_count": 29,
      "outputs": [
        {
          "output_type": "stream",
          "name": "stdout",
          "text": [
            "[1, 2, 3, 4]\n"
          ]
        }
      ]
    },
    {
      "cell_type": "code",
      "source": [
        "type(numbers)"
      ],
      "metadata": {
        "colab": {
          "base_uri": "https://localhost:8080/"
        },
        "id": "7clDizwnOXCc",
        "outputId": "3f11d565-839f-4da6-af93-a3a85f05f9bd"
      },
      "execution_count": 30,
      "outputs": [
        {
          "output_type": "execute_result",
          "data": {
            "text/plain": [
              "list"
            ]
          },
          "metadata": {},
          "execution_count": 30
        }
      ]
    },
    {
      "cell_type": "code",
      "source": [
        "# Create a list of string - names\n",
        "names = [\"Tashi\", \"Pema\", \"Dorji\", \"Lhamo\"]"
      ],
      "metadata": {
        "id": "R1fX9ZZ-OkLd"
      },
      "execution_count": 31,
      "outputs": []
    },
    {
      "cell_type": "code",
      "source": [
        "names"
      ],
      "metadata": {
        "colab": {
          "base_uri": "https://localhost:8080/"
        },
        "id": "CwFYgoDoOuJ_",
        "outputId": "a1439412-9ce2-4c62-f5d7-c4352ccf77bf"
      },
      "execution_count": 32,
      "outputs": [
        {
          "output_type": "execute_result",
          "data": {
            "text/plain": [
              "['Tashi', 'Pema', 'Dorji', 'Lhamo']"
            ]
          },
          "metadata": {},
          "execution_count": 32
        }
      ]
    },
    {
      "cell_type": "code",
      "source": [
        "# Heterogeneous list\n",
        "mixed = [1, \"Tashi\", True, 20.6]"
      ],
      "metadata": {
        "id": "F9eGisPZOwMB"
      },
      "execution_count": 33,
      "outputs": []
    },
    {
      "cell_type": "code",
      "source": [
        "mixed"
      ],
      "metadata": {
        "colab": {
          "base_uri": "https://localhost:8080/"
        },
        "id": "HmFfoNKBO1xd",
        "outputId": "a84dcb0b-66e3-4328-df9a-ec1d1fbd72b3"
      },
      "execution_count": 34,
      "outputs": [
        {
          "output_type": "execute_result",
          "data": {
            "text/plain": [
              "[1, 'Tashi', True, 20.6]"
            ]
          },
          "metadata": {},
          "execution_count": 34
        }
      ]
    },
    {
      "cell_type": "code",
      "source": [
        "mixed[1]"
      ],
      "metadata": {
        "colab": {
          "base_uri": "https://localhost:8080/",
          "height": 35
        },
        "id": "rmsDUUz0O4lL",
        "outputId": "7ad0b394-4f2e-414a-db94-f2408fd9dac2"
      },
      "execution_count": 35,
      "outputs": [
        {
          "output_type": "execute_result",
          "data": {
            "text/plain": [
              "'Tashi'"
            ],
            "application/vnd.google.colaboratory.intrinsic+json": {
              "type": "string"
            }
          },
          "metadata": {},
          "execution_count": 35
        }
      ]
    },
    {
      "cell_type": "code",
      "source": [
        "# Adding element into the list\n",
        "# Add David to the list\n",
        "names.append('David')\n",
        "names"
      ],
      "metadata": {
        "colab": {
          "base_uri": "https://localhost:8080/"
        },
        "id": "rDMZOKFtQCuh",
        "outputId": "d32a9fa3-e568-4211-a283-fdd5bc705d30"
      },
      "execution_count": 36,
      "outputs": [
        {
          "output_type": "execute_result",
          "data": {
            "text/plain": [
              "['Tashi', 'Pema', 'Dorji', 'Lhamo', 'David']"
            ]
          },
          "metadata": {},
          "execution_count": 36
        }
      ]
    },
    {
      "cell_type": "code",
      "source": [
        "# Remve an element\n",
        "names.remove('Lhamo')\n",
        "names"
      ],
      "metadata": {
        "colab": {
          "base_uri": "https://localhost:8080/"
        },
        "id": "ShvbvZAMQdEM",
        "outputId": "943c82c8-dc22-4779-bc38-efb7946e00fb"
      },
      "execution_count": 37,
      "outputs": [
        {
          "output_type": "execute_result",
          "data": {
            "text/plain": [
              "['Tashi', 'Pema', 'Dorji', 'David']"
            ]
          },
          "metadata": {},
          "execution_count": 37
        }
      ]
    },
    {
      "cell_type": "markdown",
      "source": [
        "Create a list of fruits - Apple, Banana, Cherry\n",
        "- Add the element Mango in the list\n",
        "- Remove element banana from the list\n",
        "- Add an element Orange to be the first element in the list such that the resultant list will have - Orange, Apple, Cherry, Mango"
      ],
      "metadata": {
        "id": "iA5qK1J1Q2tH"
      }
    },
    {
      "cell_type": "code",
      "source": [
        "# Create list called fruits\n",
        "fruits = ['Apple', 'Banana', 'Cherry']\n",
        "fruits"
      ],
      "metadata": {
        "colab": {
          "base_uri": "https://localhost:8080/"
        },
        "id": "AjSXmt0IQors",
        "outputId": "8e6dad04-ea0d-4c3d-e0df-cb815f21548c"
      },
      "execution_count": 38,
      "outputs": [
        {
          "output_type": "execute_result",
          "data": {
            "text/plain": [
              "['Apple', 'Banana', 'Cherry']"
            ]
          },
          "metadata": {},
          "execution_count": 38
        }
      ]
    },
    {
      "cell_type": "code",
      "source": [
        "# Add Mango into the list\n",
        "fruits.append('Mango')\n",
        "fruits"
      ],
      "metadata": {
        "colab": {
          "base_uri": "https://localhost:8080/"
        },
        "id": "qv1bjefdRYTX",
        "outputId": "d006ce0b-e92f-4e9e-ad3f-abb459cd939b"
      },
      "execution_count": 39,
      "outputs": [
        {
          "output_type": "execute_result",
          "data": {
            "text/plain": [
              "['Apple', 'Banana', 'Cherry', 'Mango']"
            ]
          },
          "metadata": {},
          "execution_count": 39
        }
      ]
    },
    {
      "cell_type": "code",
      "source": [
        "# Remove Banana from the list\n",
        "fruits.remove('Banana')\n",
        "fruits"
      ],
      "metadata": {
        "colab": {
          "base_uri": "https://localhost:8080/"
        },
        "id": "55JqUj-ZRdL8",
        "outputId": "f48b8f55-4ee5-4e7a-bf71-a93f6e9a381b"
      },
      "execution_count": 40,
      "outputs": [
        {
          "output_type": "execute_result",
          "data": {
            "text/plain": [
              "['Apple', 'Cherry', 'Mango']"
            ]
          },
          "metadata": {},
          "execution_count": 40
        }
      ]
    },
    {
      "cell_type": "code",
      "source": [
        "# Add an element Orange to be the first element in the list such that the resultant list will have - Orange, Apple, Cherry, Mango\n",
        "fruits.insert(0, 'Orange')\n",
        "fruits"
      ],
      "metadata": {
        "colab": {
          "base_uri": "https://localhost:8080/"
        },
        "id": "tA-QPQPZRlQB",
        "outputId": "d84b75db-1588-4181-bf99-c0a4595275cb"
      },
      "execution_count": 41,
      "outputs": [
        {
          "output_type": "execute_result",
          "data": {
            "text/plain": [
              "['Orange', 'Apple', 'Cherry', 'Mango']"
            ]
          },
          "metadata": {},
          "execution_count": 41
        }
      ]
    },
    {
      "cell_type": "code",
      "source": [],
      "metadata": {
        "id": "yL51KJbXRxwz"
      },
      "execution_count": 41,
      "outputs": []
    }
  ]
}