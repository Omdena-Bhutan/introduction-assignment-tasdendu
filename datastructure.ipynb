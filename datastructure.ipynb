{
  "nbformat": 4,
  "nbformat_minor": 0,
  "metadata": {
    "colab": {
      "provenance": [],
      "authorship_tag": "ABX9TyPJ7PgAkpE7eQIotYS3Pf53",
      "include_colab_link": true
    },
    "kernelspec": {
      "name": "python3",
      "display_name": "Python 3"
    },
    "language_info": {
      "name": "python"
    }
  },
  "cells": [
    {
      "cell_type": "markdown",
      "metadata": {
        "id": "view-in-github",
        "colab_type": "text"
      },
      "source": [
        "<a href=\"https://colab.research.google.com/github/Omdena-Bhutan/introduction-assignment-tasdendu/blob/main/datastructure.ipynb\" target=\"_parent\"><img src=\"https://colab.research.google.com/assets/colab-badge.svg\" alt=\"Open In Colab\"/></a>"
      ]
    },
    {
      "cell_type": "code",
      "execution_count": 54,
      "metadata": {
        "id": "4gnf2-gjMXoM"
      },
      "outputs": [],
      "source": []
    },
    {
      "cell_type": "markdown",
      "source": [
        "**4 Important DataTypes**\n",
        "1. List\n",
        "  - Collection of ordered, mutable, heterogenious and can accept duplicate."
      ],
      "metadata": {
        "id": "aiAI0vvENGU3"
      }
    },
    {
      "cell_type": "code",
      "source": [
        "# Definfing a list\n",
        "numbers = [1,2,3,4]"
      ],
      "metadata": {
        "id": "-rME2X-HOI-1"
      },
      "execution_count": 55,
      "outputs": []
    },
    {
      "cell_type": "markdown",
      "source": [],
      "metadata": {
        "id": "xHLIRFw1PBKg"
      }
    },
    {
      "cell_type": "code",
      "source": [
        "print(numbers)"
      ],
      "metadata": {
        "colab": {
          "base_uri": "https://localhost:8080/"
        },
        "id": "XODhap5KOTAw",
        "outputId": "ebdd14bb-bbf5-4fbd-dcb8-faad9a819c9b"
      },
      "execution_count": 56,
      "outputs": [
        {
          "output_type": "stream",
          "name": "stdout",
          "text": [
            "[1, 2, 3, 4]\n"
          ]
        }
      ]
    },
    {
      "cell_type": "code",
      "source": [
        "type(numbers)"
      ],
      "metadata": {
        "colab": {
          "base_uri": "https://localhost:8080/"
        },
        "id": "7clDizwnOXCc",
        "outputId": "7cf01c98-e48d-49b1-f3d9-56710b9379de"
      },
      "execution_count": 57,
      "outputs": [
        {
          "output_type": "execute_result",
          "data": {
            "text/plain": [
              "list"
            ]
          },
          "metadata": {},
          "execution_count": 57
        }
      ]
    },
    {
      "cell_type": "code",
      "source": [
        "# Create a list of string - names\n",
        "names = [\"Tashi\", \"Pema\", \"Dorji\", \"Lhamo\"]"
      ],
      "metadata": {
        "id": "R1fX9ZZ-OkLd"
      },
      "execution_count": 58,
      "outputs": []
    },
    {
      "cell_type": "code",
      "source": [
        "names"
      ],
      "metadata": {
        "colab": {
          "base_uri": "https://localhost:8080/"
        },
        "id": "CwFYgoDoOuJ_",
        "outputId": "9dd0edec-3458-4ff4-e906-493fa828d53a"
      },
      "execution_count": 59,
      "outputs": [
        {
          "output_type": "execute_result",
          "data": {
            "text/plain": [
              "['Tashi', 'Pema', 'Dorji', 'Lhamo']"
            ]
          },
          "metadata": {},
          "execution_count": 59
        }
      ]
    },
    {
      "cell_type": "code",
      "source": [
        "# Heterogeneous list\n",
        "mixed = [1, \"Tashi\", True, 20.6]"
      ],
      "metadata": {
        "id": "F9eGisPZOwMB"
      },
      "execution_count": 60,
      "outputs": []
    },
    {
      "cell_type": "code",
      "source": [
        "mixed"
      ],
      "metadata": {
        "colab": {
          "base_uri": "https://localhost:8080/"
        },
        "id": "HmFfoNKBO1xd",
        "outputId": "874fd6e0-9098-446d-b786-8c36f2a5d0b9"
      },
      "execution_count": 61,
      "outputs": [
        {
          "output_type": "execute_result",
          "data": {
            "text/plain": [
              "[1, 'Tashi', True, 20.6]"
            ]
          },
          "metadata": {},
          "execution_count": 61
        }
      ]
    },
    {
      "cell_type": "code",
      "source": [
        "mixed[1]"
      ],
      "metadata": {
        "colab": {
          "base_uri": "https://localhost:8080/",
          "height": 35
        },
        "id": "rmsDUUz0O4lL",
        "outputId": "9b4618af-b802-448f-ef9b-a5c065765338"
      },
      "execution_count": 62,
      "outputs": [
        {
          "output_type": "execute_result",
          "data": {
            "text/plain": [
              "'Tashi'"
            ],
            "application/vnd.google.colaboratory.intrinsic+json": {
              "type": "string"
            }
          },
          "metadata": {},
          "execution_count": 62
        }
      ]
    },
    {
      "cell_type": "code",
      "source": [
        "# Adding element into the list\n",
        "# Add David to the list\n",
        "names.append('David')\n",
        "names"
      ],
      "metadata": {
        "colab": {
          "base_uri": "https://localhost:8080/"
        },
        "id": "rDMZOKFtQCuh",
        "outputId": "e7b3700e-cab2-4fbc-ca1d-0ddd4c699244"
      },
      "execution_count": 63,
      "outputs": [
        {
          "output_type": "execute_result",
          "data": {
            "text/plain": [
              "['Tashi', 'Pema', 'Dorji', 'Lhamo', 'David']"
            ]
          },
          "metadata": {},
          "execution_count": 63
        }
      ]
    },
    {
      "cell_type": "code",
      "source": [
        "# Remve an element\n",
        "names.remove('Lhamo')\n",
        "names"
      ],
      "metadata": {
        "colab": {
          "base_uri": "https://localhost:8080/"
        },
        "id": "ShvbvZAMQdEM",
        "outputId": "800d1b8a-168b-4315-9380-33949a362bc0"
      },
      "execution_count": 64,
      "outputs": [
        {
          "output_type": "execute_result",
          "data": {
            "text/plain": [
              "['Tashi', 'Pema', 'Dorji', 'David']"
            ]
          },
          "metadata": {},
          "execution_count": 64
        }
      ]
    },
    {
      "cell_type": "markdown",
      "source": [
        "Create a list of fruits - Apple, Banana, Cherry\n",
        "- Add the element Mango in the list\n",
        "- Remove element banana from the list\n",
        "- Add an element Orange to be the first element in the list such that the resultant list will have - Orange, Apple, Cherry, Mango"
      ],
      "metadata": {
        "id": "iA5qK1J1Q2tH"
      }
    },
    {
      "cell_type": "code",
      "source": [
        "# Create list called fruits\n",
        "fruits = ['Apple', 'Banana', 'Cherry']\n",
        "fruits"
      ],
      "metadata": {
        "colab": {
          "base_uri": "https://localhost:8080/"
        },
        "id": "AjSXmt0IQors",
        "outputId": "30e75b46-2ed2-403f-8302-1c19f3f03dec"
      },
      "execution_count": 65,
      "outputs": [
        {
          "output_type": "execute_result",
          "data": {
            "text/plain": [
              "['Apple', 'Banana', 'Cherry']"
            ]
          },
          "metadata": {},
          "execution_count": 65
        }
      ]
    },
    {
      "cell_type": "code",
      "source": [
        "# Add Mango into the list\n",
        "fruits.append('Mango')\n",
        "fruits"
      ],
      "metadata": {
        "colab": {
          "base_uri": "https://localhost:8080/"
        },
        "id": "qv1bjefdRYTX",
        "outputId": "b7ffdbe6-989f-44b3-a6d1-0ccc0ac448b3"
      },
      "execution_count": 66,
      "outputs": [
        {
          "output_type": "execute_result",
          "data": {
            "text/plain": [
              "['Apple', 'Banana', 'Cherry', 'Mango']"
            ]
          },
          "metadata": {},
          "execution_count": 66
        }
      ]
    },
    {
      "cell_type": "code",
      "source": [
        "# Remove Banana from the list\n",
        "fruits.remove('Banana')\n",
        "fruits"
      ],
      "metadata": {
        "colab": {
          "base_uri": "https://localhost:8080/"
        },
        "id": "55JqUj-ZRdL8",
        "outputId": "03f09bfb-f24e-4850-973a-23daf4dbea0e"
      },
      "execution_count": 67,
      "outputs": [
        {
          "output_type": "execute_result",
          "data": {
            "text/plain": [
              "['Apple', 'Cherry', 'Mango']"
            ]
          },
          "metadata": {},
          "execution_count": 67
        }
      ]
    },
    {
      "cell_type": "code",
      "source": [
        "# Add an element Orange to be the first element in the list such that the resultant list will have - Orange, Apple, Cherry, Mango\n",
        "fruits.insert(0, 'Orange')\n",
        "fruits"
      ],
      "metadata": {
        "colab": {
          "base_uri": "https://localhost:8080/"
        },
        "id": "tA-QPQPZRlQB",
        "outputId": "bc3f7b8b-68d2-48c1-ca27-476e17332dd4"
      },
      "execution_count": 68,
      "outputs": [
        {
          "output_type": "execute_result",
          "data": {
            "text/plain": [
              "['Orange', 'Apple', 'Cherry', 'Mango']"
            ]
          },
          "metadata": {},
          "execution_count": 68
        }
      ]
    },
    {
      "cell_type": "markdown",
      "source": [
        "2. Tuples\n",
        "- Tuples are ordered and immutable sequences\n"
      ],
      "metadata": {
        "id": "A5OmgUZ8Ulqb"
      }
    },
    {
      "cell_type": "code",
      "source": [
        "# Create a tuple\n",
        "my_tuple = (1, 'apple', 3, 'Tashi')"
      ],
      "metadata": {
        "id": "mlRtFaDQUyJE"
      },
      "execution_count": 69,
      "outputs": []
    },
    {
      "cell_type": "code",
      "source": [
        "# Access elements\n",
        "my_tuple[3]"
      ],
      "metadata": {
        "colab": {
          "base_uri": "https://localhost:8080/",
          "height": 35
        },
        "id": "-MmAzAxPVZCK",
        "outputId": "d180bf2e-d8d2-46a1-e802-abfd1cb9043b"
      },
      "execution_count": 70,
      "outputs": [
        {
          "output_type": "execute_result",
          "data": {
            "text/plain": [
              "'Tashi'"
            ],
            "application/vnd.google.colaboratory.intrinsic+json": {
              "type": "string"
            }
          },
          "metadata": {},
          "execution_count": 70
        }
      ]
    },
    {
      "cell_type": "code",
      "source": [
        "# Tuple are immutable\n",
        "#my_tuple.append(9) -  This will throw and exceptions."
      ],
      "metadata": {
        "id": "-vLtGHekVrsr"
      },
      "execution_count": 83,
      "outputs": []
    },
    {
      "cell_type": "markdown",
      "source": [
        "3. Dictionaries\n",
        "- Unordered collections of key-value pairs."
      ],
      "metadata": {
        "id": "HU6RIl8kWABm"
      }
    },
    {
      "cell_type": "code",
      "source": [
        "# Create a dictionaries\n",
        "student = {\n",
        "  'name': \"Tashi\",\n",
        "  'age': 30,\n",
        "  'country': 'Bhutan'\n",
        "}"
      ],
      "metadata": {
        "id": "mZr8ycVEWHbR"
      },
      "execution_count": 72,
      "outputs": []
    },
    {
      "cell_type": "code",
      "source": [
        "student"
      ],
      "metadata": {
        "colab": {
          "base_uri": "https://localhost:8080/"
        },
        "id": "sFq_JYk0WRZw",
        "outputId": "e025f0d5-4007-4137-87ab-fa3c0ae1f544"
      },
      "execution_count": 73,
      "outputs": [
        {
          "output_type": "execute_result",
          "data": {
            "text/plain": [
              "{'name': 'Tashi', 'age': 30, 'country': 'Bhutan'}"
            ]
          },
          "metadata": {},
          "execution_count": 73
        }
      ]
    },
    {
      "cell_type": "code",
      "source": [
        "# Accessing element in dictionaries.\n",
        "student['name']"
      ],
      "metadata": {
        "colab": {
          "base_uri": "https://localhost:8080/",
          "height": 35
        },
        "id": "fxUnB3pAXgEp",
        "outputId": "a69a6d0a-515c-43f8-f4cd-0ff63af3498c"
      },
      "execution_count": 74,
      "outputs": [
        {
          "output_type": "execute_result",
          "data": {
            "text/plain": [
              "'Tashi'"
            ],
            "application/vnd.google.colaboratory.intrinsic+json": {
              "type": "string"
            }
          },
          "metadata": {},
          "execution_count": 74
        }
      ]
    },
    {
      "cell_type": "code",
      "source": [
        "# Adding elements to the dictoionary\n",
        "student['major'] = 'B.Sc Computer Science'\n",
        "student"
      ],
      "metadata": {
        "colab": {
          "base_uri": "https://localhost:8080/"
        },
        "id": "8v6nRCBHXmxl",
        "outputId": "ee1b3b7d-4035-4be2-888c-62d8adcbb0f5"
      },
      "execution_count": 75,
      "outputs": [
        {
          "output_type": "execute_result",
          "data": {
            "text/plain": [
              "{'name': 'Tashi',\n",
              " 'age': 30,\n",
              " 'country': 'Bhutan',\n",
              " 'major': 'B.Sc Computer Science'}"
            ]
          },
          "metadata": {},
          "execution_count": 75
        }
      ]
    },
    {
      "cell_type": "markdown",
      "source": [],
      "metadata": {
        "id": "CbxuySuAYEaz"
      }
    },
    {
      "cell_type": "code",
      "source": [
        "# Remove age from dictionaries\n",
        "student.pop('age')\n",
        "student"
      ],
      "metadata": {
        "colab": {
          "base_uri": "https://localhost:8080/"
        },
        "id": "RYhJrG2zYCTM",
        "outputId": "cf092d6f-ecd3-4705-8b5b-b7cd47cefbd3"
      },
      "execution_count": 77,
      "outputs": [
        {
          "output_type": "execute_result",
          "data": {
            "text/plain": [
              "{'name': 'Tashi', 'country': 'Bhutan', 'major': 'B.Sc Computer Science'}"
            ]
          },
          "metadata": {},
          "execution_count": 77
        }
      ]
    },
    {
      "cell_type": "markdown",
      "source": [
        "4. Sets\n",
        "- Unordered collections of mutable and unique elements."
      ],
      "metadata": {
        "id": "-b3wkV1lY2tg"
      }
    },
    {
      "cell_type": "code",
      "source": [
        "# Create a sets\n",
        "my_set = {6, 9, 1, 4, 2}\n",
        "my_set"
      ],
      "metadata": {
        "colab": {
          "base_uri": "https://localhost:8080/"
        },
        "id": "I3Z8R-SAY-mQ",
        "outputId": "35e531b4-a04b-4526-a584-7c91707d6b47"
      },
      "execution_count": 78,
      "outputs": [
        {
          "output_type": "execute_result",
          "data": {
            "text/plain": [
              "{1, 2, 4, 6, 9}"
            ]
          },
          "metadata": {},
          "execution_count": 78
        }
      ]
    },
    {
      "cell_type": "code",
      "source": [
        "# Sets are unique - it does not alow for duplicates\n",
        "set_numbers = {1, 2, 2, 2, 4, 3, 4, 6, 7, 8, 1, 3}\n",
        "set_numbers"
      ],
      "metadata": {
        "colab": {
          "base_uri": "https://localhost:8080/"
        },
        "id": "t99R7yeRaVLX",
        "outputId": "484e63dd-4bda-46ac-d327-15b7360e7f4e"
      },
      "execution_count": 79,
      "outputs": [
        {
          "output_type": "execute_result",
          "data": {
            "text/plain": [
              "{1, 2, 3, 4, 6, 7, 8}"
            ]
          },
          "metadata": {},
          "execution_count": 79
        }
      ]
    },
    {
      "cell_type": "code",
      "source": [
        "# Accessing the element,\n",
        "for item in my_set:\n",
        "  print(item)"
      ],
      "metadata": {
        "colab": {
          "base_uri": "https://localhost:8080/"
        },
        "id": "lOGtriHuagn5",
        "outputId": "7adb3f45-0444-4909-87ef-d57f8aea1529"
      },
      "execution_count": 80,
      "outputs": [
        {
          "output_type": "stream",
          "name": "stdout",
          "text": [
            "1\n",
            "2\n",
            "4\n",
            "6\n",
            "9\n"
          ]
        }
      ]
    },
    {
      "cell_type": "code",
      "source": [
        "# Adding elements\n",
        "my_set.add(8)\n",
        "my_set"
      ],
      "metadata": {
        "colab": {
          "base_uri": "https://localhost:8080/"
        },
        "id": "JCoXuPOtazx-",
        "outputId": "eb3d4820-1997-456e-80b4-439eed82a418"
      },
      "execution_count": 81,
      "outputs": [
        {
          "output_type": "execute_result",
          "data": {
            "text/plain": [
              "{1, 2, 4, 6, 8, 9}"
            ]
          },
          "metadata": {},
          "execution_count": 81
        }
      ]
    },
    {
      "cell_type": "code",
      "source": [
        "# Remove element from the sets\n",
        "my_set.remove(4)\n",
        "my_set"
      ],
      "metadata": {
        "colab": {
          "base_uri": "https://localhost:8080/"
        },
        "id": "KF0ayALqa6iv",
        "outputId": "88408578-458c-47be-9085-cf726c19b83b"
      },
      "execution_count": 82,
      "outputs": [
        {
          "output_type": "execute_result",
          "data": {
            "text/plain": [
              "{1, 2, 6, 8, 9}"
            ]
          },
          "metadata": {},
          "execution_count": 82
        }
      ]
    },
    {
      "cell_type": "code",
      "source": [],
      "metadata": {
        "id": "nFJYE6jAbKgY"
      },
      "execution_count": null,
      "outputs": []
    }
  ]
}